{
 "cells": [
  {
   "cell_type": "markdown",
   "id": "f57bd821-0e14-44c4-a1b2-9c9876d91543",
   "metadata": {},
   "source": [
    "https://twitter.com/CutTheKnotMath/status/978971229930565637  \n",
    "https://twitter.com/nntaleb/status/979298656284274688  \n",
    "\n",
    "<img src=\"img/two_sixes.jpg\"></img>"
   ]
  },
  {
   "cell_type": "code",
   "execution_count": 1,
   "id": "d13c6890-a914-4d43-87be-92dbe965f9c8",
   "metadata": {},
   "outputs": [],
   "source": [
    "import numpy as np\n",
    "from numpy import linalg"
   ]
  },
  {
   "cell_type": "code",
   "execution_count": 3,
   "id": "249711fe-0668-4670-aafd-602351e7157e",
   "metadata": {},
   "outputs": [
    {
     "name": "stdout",
     "output_type": "stream",
     "text": [
      "[[0.83333333 0.16666667 0.        ]\n",
      " [0.83333333 0.         0.16666667]\n",
      " [0.83333333 0.16666667 0.        ]]\n"
     ]
    }
   ],
   "source": [
    "trans_mtx = np.array([[5 / 6, 1 / 6, 0], [5 / 6, 0, 1 / 6], [5 / 6, 1 / 6, 0]])\n",
    "print(trans_mtx)"
   ]
  },
  {
   "cell_type": "code",
   "execution_count": 5,
   "id": "7ad70c9f-fa95-4b31-ae75-77f45609ebc6",
   "metadata": {
    "tags": []
   },
   "outputs": [
    {
     "name": "stdout",
     "output_type": "stream",
     "text": [
      "[0.83333333 0.14285714 0.02380952]\n"
     ]
    }
   ],
   "source": [
    "steady_state_probs = linalg.matrix_power(trans_mtx, 10000)\n",
    "print(steady_state_probs[0])"
   ]
  },
  {
   "cell_type": "code",
   "execution_count": 6,
   "id": "c34cf800-6909-4f13-9bb0-05d26c3f1d02",
   "metadata": {
    "tags": []
   },
   "outputs": [
    {
     "data": {
      "text/plain": [
       "41.99999999998185"
      ]
     },
     "execution_count": 6,
     "metadata": {},
     "output_type": "execute_result"
    }
   ],
   "source": [
    "1 / steady_state_probs[0, 2]"
   ]
  },
  {
   "cell_type": "markdown",
   "id": "299edefa-cfb5-4153-8fa1-eeb01044478d",
   "metadata": {},
   "source": [
    "### Simulation"
   ]
  },
  {
   "cell_type": "code",
   "execution_count": 7,
   "id": "86a850a5-2369-48e2-8742-8f5f3304e37c",
   "metadata": {},
   "outputs": [],
   "source": [
    "sims = 10_000\n",
    "cnts = []\n",
    "states = [0, 1, 2]\n",
    "for i in range(0, sims):\n",
    "    cnt = 0\n",
    "    state = 0\n",
    "    while True:\n",
    "        cnt += 1\n",
    "        state = np.random.choice(states, p=trans_mtx[state])\n",
    "        if state == 2:\n",
    "            cnts.append(cnt)\n",
    "            break"
   ]
  },
  {
   "cell_type": "code",
   "execution_count": 8,
   "id": "64fc6034-4a76-4dab-ab36-c74cea46225c",
   "metadata": {},
   "outputs": [
    {
     "data": {
      "text/plain": [
       "42.3707"
      ]
     },
     "execution_count": 8,
     "metadata": {},
     "output_type": "execute_result"
    }
   ],
   "source": [
    "sum(cnts) / len(cnts)"
   ]
  },
  {
   "cell_type": "code",
   "execution_count": null,
   "id": "cc468045-b1a4-4535-afca-8c177d97aa4b",
   "metadata": {},
   "outputs": [],
   "source": []
  }
 ],
 "metadata": {
  "kernelspec": {
   "display_name": "Python 3",
   "language": "python",
   "name": "python3"
  },
  "language_info": {
   "codemirror_mode": {
    "name": "ipython",
    "version": 3
   },
   "file_extension": ".py",
   "mimetype": "text/x-python",
   "name": "python",
   "nbconvert_exporter": "python",
   "pygments_lexer": "ipython3",
   "version": "3.8.17"
  }
 },
 "nbformat": 4,
 "nbformat_minor": 5
}
