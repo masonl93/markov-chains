{
 "cells": [
  {
   "cell_type": "markdown",
   "id": "446ec162-c13c-4d0d-9a11-11b5e95df72c",
   "metadata": {
    "tags": []
   },
   "source": [
    "<img src=\"img/covfefe.jpg\"></img>\n",
    "\n",
    "# Refs\n",
    "- https://twitter.com/nntaleb/status/937035937485348865\n",
    "- https://twitter.com/nntaleb/status/937110173524660224\n",
    "- https://twitter.com/jordancurve/status/936984541557911553\n",
    "- https://twitter.com/octonion/status/940174004911874048\n",
    "- https://twitter.com/octonion/status/937529269672185856\n",
    "- https://twitter.com/octonion/status/937798723173781505"
   ]
  },
  {
   "cell_type": "code",
   "execution_count": 3,
   "id": "f31f012e-2141-4d17-a35e-ecec4899896d",
   "metadata": {},
   "outputs": [],
   "source": [
    "import numpy as np\n",
    "from numpy import linalg"
   ]
  },
  {
   "cell_type": "code",
   "execution_count": 4,
   "id": "79d9faba-0389-4262-a6fc-31d817b330e6",
   "metadata": {},
   "outputs": [
    {
     "name": "stdout",
     "output_type": "stream",
     "text": [
      "[[0.96153846 0.03846154 0.         0.         0.         0.\n",
      "  0.         0.        ]\n",
      " [0.92307692 0.03846154 0.03846154 0.         0.         0.\n",
      "  0.         0.        ]\n",
      " [0.92307692 0.03846154 0.         0.03846154 0.         0.\n",
      "  0.         0.        ]\n",
      " [0.92307692 0.03846154 0.         0.         0.03846154 0.\n",
      "  0.         0.        ]\n",
      " [0.92307692 0.03846154 0.         0.         0.         0.03846154\n",
      "  0.         0.        ]\n",
      " [0.92307692 0.03846154 0.         0.         0.         0.\n",
      "  0.03846154 0.        ]\n",
      " [0.92307692 0.03846154 0.         0.         0.         0.\n",
      "  0.         0.03846154]\n",
      " [0.96153846 0.03846154 0.         0.         0.         0.\n",
      "  0.         0.        ]]\n"
     ]
    }
   ],
   "source": [
    "trans_mtx = np.zeros((8, 8))\n",
    "\n",
    "\n",
    "trans_mtx[0, 0] = 25 / 26\n",
    "trans_mtx[0, 1] = 1 / 26  # c\n",
    "\n",
    "for i in range(1, 7):\n",
    "    trans_mtx[i, 0] = 24 / 26\n",
    "    trans_mtx[i, 1] = 1 / 26  # going back to c\n",
    "\n",
    "trans_mtx[1, 2] = 1 / 26  # o\n",
    "trans_mtx[2, 3] = 1 / 26  # v\n",
    "trans_mtx[3, 4] = 1 / 26  # f\n",
    "trans_mtx[4, 5] = 1 / 26  # e\n",
    "trans_mtx[5, 6] = 1 / 26  # f\n",
    "trans_mtx[6, 7] = 1 / 26  # e\n",
    "\n",
    "trans_mtx[7, 0] = 25 / 26\n",
    "trans_mtx[7, 1] = 1 / 26\n",
    "\n",
    "print(trans_mtx)"
   ]
  },
  {
   "cell_type": "code",
   "execution_count": 5,
   "id": "bf1437ea-efb2-417a-b019-c21d6fd02a5d",
   "metadata": {},
   "outputs": [
    {
     "name": "stdout",
     "output_type": "stream",
     "text": [
      "[[9.60000000e-01 3.84615385e-02 1.47928994e-03 5.68957670e-05\n",
      "  2.18829873e-06 8.41653357e-08 3.23712830e-09 1.24504935e-10]\n",
      " [9.60000000e-01 3.84615385e-02 1.47928994e-03 5.68957670e-05\n",
      "  2.18829873e-06 8.41653357e-08 3.23712830e-09 1.24504935e-10]\n",
      " [9.60000000e-01 3.84615385e-02 1.47928994e-03 5.68957670e-05\n",
      "  2.18829873e-06 8.41653357e-08 3.23712830e-09 1.24504935e-10]\n",
      " [9.60000000e-01 3.84615385e-02 1.47928994e-03 5.68957670e-05\n",
      "  2.18829873e-06 8.41653357e-08 3.23712830e-09 1.24504935e-10]\n",
      " [9.60000000e-01 3.84615385e-02 1.47928994e-03 5.68957670e-05\n",
      "  2.18829873e-06 8.41653357e-08 3.23712830e-09 1.24504935e-10]\n",
      " [9.60000000e-01 3.84615385e-02 1.47928994e-03 5.68957670e-05\n",
      "  2.18829873e-06 8.41653357e-08 3.23712830e-09 1.24504935e-10]\n",
      " [9.60000000e-01 3.84615385e-02 1.47928994e-03 5.68957670e-05\n",
      "  2.18829873e-06 8.41653357e-08 3.23712830e-09 1.24504935e-10]\n",
      " [9.60000000e-01 3.84615385e-02 1.47928994e-03 5.68957670e-05\n",
      "  2.18829873e-06 8.41653357e-08 3.23712830e-09 1.24504935e-10]]\n"
     ]
    }
   ],
   "source": [
    "steady_state_probs = linalg.matrix_power(trans_mtx, 10000)\n",
    "print(steady_state_probs)"
   ]
  },
  {
   "cell_type": "code",
   "execution_count": 6,
   "id": "b1c544ab-927c-4108-8a33-a4cb6f0c97b8",
   "metadata": {},
   "outputs": [
    {
     "data": {
      "text/plain": [
       "8031810176.003444"
      ]
     },
     "execution_count": 6,
     "metadata": {},
     "output_type": "execute_result"
    }
   ],
   "source": [
    "1 / steady_state_probs[0][-1]"
   ]
  },
  {
   "cell_type": "code",
   "execution_count": null,
   "id": "dad82198-812e-4691-9726-0f1926b9c4bf",
   "metadata": {},
   "outputs": [],
   "source": []
  }
 ],
 "metadata": {
  "kernelspec": {
   "display_name": "Python 3",
   "language": "python",
   "name": "python3"
  },
  "language_info": {
   "codemirror_mode": {
    "name": "ipython",
    "version": 3
   },
   "file_extension": ".py",
   "mimetype": "text/x-python",
   "name": "python",
   "nbconvert_exporter": "python",
   "pygments_lexer": "ipython3",
   "version": "3.8.17"
  }
 },
 "nbformat": 4,
 "nbformat_minor": 5
}
