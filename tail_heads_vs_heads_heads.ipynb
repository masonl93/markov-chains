{
 "cells": [
  {
   "cell_type": "markdown",
   "id": "27a5276e-b418-4558-806f-78b8a9617fc8",
   "metadata": {},
   "source": [
    "https://twitter.com/CutTheKnotMath/status/1008327243280670720  \n",
    "https://twitter.com/nntaleb/status/1008670089258979329  \n",
    "\n",
    "<img src=\"img/ht_hh.png\"></img>"
   ]
  },
  {
   "cell_type": "code",
   "execution_count": 2,
   "id": "fa940f7c-fe5d-41b4-9a8c-6755adcf9231",
   "metadata": {},
   "outputs": [],
   "source": [
    "import numpy as np\n",
    "from numpy import linalg"
   ]
  },
  {
   "cell_type": "code",
   "execution_count": 3,
   "id": "57e6c004-55ab-4cb7-87fa-7d0a461001f1",
   "metadata": {},
   "outputs": [
    {
     "name": "stdout",
     "output_type": "stream",
     "text": [
      "[[0.5 0.5 0. ]\n",
      " [0.  0.5 0.5]\n",
      " [0.5 0.5 0. ]]\n"
     ]
    }
   ],
   "source": [
    "trans_mtx_ht = np.array([[1 / 2, 1 / 2, 0], [0, 1 / 2, 1 / 2], [1 / 2, 1 / 2, 0]])\n",
    "print(trans_mtx_ht)"
   ]
  },
  {
   "cell_type": "code",
   "execution_count": 4,
   "id": "f664e35a-13e7-448c-9e36-f0cf0956fc03",
   "metadata": {},
   "outputs": [
    {
     "name": "stdout",
     "output_type": "stream",
     "text": [
      "[0.25 0.5  0.25]\n"
     ]
    }
   ],
   "source": [
    "steady_state_probs = linalg.matrix_power(trans_mtx_ht, 10000)\n",
    "print(steady_state_probs[0])"
   ]
  },
  {
   "cell_type": "code",
   "execution_count": 5,
   "id": "1a2a6140-c826-453d-b831-c387ead25a6c",
   "metadata": {},
   "outputs": [
    {
     "data": {
      "text/plain": [
       "4.0"
      ]
     },
     "execution_count": 5,
     "metadata": {},
     "output_type": "execute_result"
    }
   ],
   "source": [
    "1 / steady_state_probs[0, 2]"
   ]
  },
  {
   "cell_type": "code",
   "execution_count": 6,
   "id": "70e791f9-d3cb-42ee-b003-e1d98a78b5eb",
   "metadata": {},
   "outputs": [
    {
     "name": "stdout",
     "output_type": "stream",
     "text": [
      "[[0.5 0.5 0. ]\n",
      " [0.5 0.  0.5]\n",
      " [0.5 0.5 0. ]]\n"
     ]
    }
   ],
   "source": [
    "trans_mtx_hh = np.array([[1 / 2, 1 / 2, 0], [1/2, 0, 1 / 2], [1 / 2, 1 / 2, 0]])\n",
    "print(trans_mtx_hh)"
   ]
  },
  {
   "cell_type": "code",
   "execution_count": 7,
   "id": "a4ff16e5-0968-40db-b5c2-098e8c3cf4f1",
   "metadata": {},
   "outputs": [
    {
     "name": "stdout",
     "output_type": "stream",
     "text": [
      "[0.5        0.33333333 0.16666667]\n"
     ]
    }
   ],
   "source": [
    "steady_state_probs = linalg.matrix_power(trans_mtx_hh, 10000)\n",
    "print(steady_state_probs[0])"
   ]
  },
  {
   "cell_type": "code",
   "execution_count": 8,
   "id": "dd491672-c344-495a-9272-c3c195dbdf05",
   "metadata": {},
   "outputs": [
    {
     "data": {
      "text/plain": [
       "6.000000000000036"
      ]
     },
     "execution_count": 8,
     "metadata": {},
     "output_type": "execute_result"
    }
   ],
   "source": [
    "1 / steady_state_probs[0, 2]"
   ]
  },
  {
   "cell_type": "code",
   "execution_count": null,
   "id": "9ca757ed-68cf-4c08-8bf9-c98558965e3d",
   "metadata": {},
   "outputs": [],
   "source": []
  }
 ],
 "metadata": {
  "kernelspec": {
   "display_name": "Python 3",
   "language": "python",
   "name": "python3"
  },
  "language_info": {
   "codemirror_mode": {
    "name": "ipython",
    "version": 3
   },
   "file_extension": ".py",
   "mimetype": "text/x-python",
   "name": "python",
   "nbconvert_exporter": "python",
   "pygments_lexer": "ipython3",
   "version": "3.8.17"
  }
 },
 "nbformat": 4,
 "nbformat_minor": 5
}
