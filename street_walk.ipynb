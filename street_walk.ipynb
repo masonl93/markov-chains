{
 "cells": [
  {
   "cell_type": "markdown",
   "id": "75a0e767-e292-4e1a-8e97-f24b36c584ab",
   "metadata": {},
   "source": [
    "https://twitter.com/CutTheKnotMath/status/1004485090892746754  \n",
    "https://twitter.com/nntaleb/status/1005142681318821890  \n",
    "\n",
    "<img src=\"img/street_walk.jpg\"></img>"
   ]
  },
  {
   "cell_type": "code",
   "execution_count": 1,
   "id": "33942ba9-9a40-40c6-957a-c97c94301d9c",
   "metadata": {},
   "outputs": [],
   "source": [
    "import pprint\n",
    "\n",
    "import numpy as np\n",
    "from numpy import linalg"
   ]
  },
  {
   "cell_type": "markdown",
   "id": "e27aa342-3435-4124-9500-4a10ea3f05e5",
   "metadata": {},
   "source": [
    "Number the nodes as:  \n",
    "1 2 3 4  \n",
    "5 6 7 8  \n",
    "9 10 11 12  \n",
    "13 14 15 16  \n",
    "17 18 19 20  \n",
    "\n",
    "We are interested in probability of node 16"
   ]
  },
  {
   "cell_type": "code",
   "execution_count": 2,
   "id": "ac7dc451-54f3-4d7d-837c-9d0704c099e8",
   "metadata": {},
   "outputs": [],
   "source": [
    "trans_mtx = np.zeros((20, 20))\n",
    "\n",
    "# pos 1\n",
    "trans_mtx[0][2 - 1] = 0.5\n",
    "trans_mtx[0][5 - 1] = 0.5\n",
    "\n",
    "# pos 2\n",
    "trans_mtx[1][3 - 1] = 0.5\n",
    "trans_mtx[1][6 - 1] = 0.5\n",
    "\n",
    "# pos 3\n",
    "trans_mtx[2][4 - 1] = 0.5\n",
    "trans_mtx[2][7 - 1] = 0.5\n",
    "\n",
    "# pos 4\n",
    "trans_mtx[3][8 - 1] = 1\n",
    "\n",
    "# pos 5\n",
    "trans_mtx[4][6 - 1] = 0.5\n",
    "trans_mtx[4][9 - 1] = 0.5\n",
    "\n",
    "# pos 6\n",
    "trans_mtx[5][7 - 1] = 0.5\n",
    "trans_mtx[5][10 - 1] = 0.5\n",
    "\n",
    "# pos 7\n",
    "trans_mtx[6][8 - 1] = 0.5\n",
    "trans_mtx[6][11 - 1] = 0.5\n",
    "\n",
    "# pos 8\n",
    "trans_mtx[7][12 - 1] = 1\n",
    "\n",
    "# pos 9\n",
    "trans_mtx[8][10 - 1] = 0.5\n",
    "trans_mtx[8][13 - 1] = 0.5\n",
    "\n",
    "# pos 10\n",
    "trans_mtx[9][11 - 1] = 0.5\n",
    "trans_mtx[9][14 - 1] = 0.5\n",
    "\n",
    "# pos 11\n",
    "trans_mtx[10][12 - 1] = 0.5\n",
    "trans_mtx[10][15 - 1] = 0.5\n",
    "\n",
    "# pos 12\n",
    "trans_mtx[11][16 - 1] = 1\n",
    "\n",
    "# pos 13\n",
    "trans_mtx[12][14 - 1] = 0.5\n",
    "trans_mtx[12][17 - 1] = 0.5\n",
    "\n",
    "# pos 14\n",
    "trans_mtx[13][15 - 1] = 0.5\n",
    "trans_mtx[13][18 - 1] = 0.5\n",
    "\n",
    "# pos 15\n",
    "trans_mtx[14][16 - 1] = 0.5\n",
    "trans_mtx[14][19 - 1] = 0.5\n",
    "\n",
    "# pos 16\n",
    "trans_mtx[15][20 - 1] = 1\n",
    "\n",
    "# pos 17\n",
    "trans_mtx[16][18 - 1] = 1\n",
    "\n",
    "# pos 18\n",
    "trans_mtx[17][19 - 1] = 1\n",
    "\n",
    "# pos 19\n",
    "trans_mtx[18][20 - 1] = 1\n",
    "\n",
    "# pos 20\n",
    "trans_mtx[15][15] = 1  # ending state we care about"
   ]
  },
  {
   "cell_type": "code",
   "execution_count": 3,
   "id": "f4fa94ba-868a-4c26-8f8a-4ac724669cf7",
   "metadata": {},
   "outputs": [
    {
     "name": "stdout",
     "output_type": "stream",
     "text": [
      "[0.  0.5 0.  0.  0.5 0.  0.  0.  0.  0.  0.  0.  0.  0.  0.  0.  0.  0.\n",
      " 0.  0. ]\n",
      "[0.  0.  0.5 0.  0.  0.5 0.  0.  0.  0.  0.  0.  0.  0.  0.  0.  0.  0.\n",
      " 0.  0. ]\n",
      "[0.  0.  0.  0.5 0.  0.  0.5 0.  0.  0.  0.  0.  0.  0.  0.  0.  0.  0.\n",
      " 0.  0. ]\n",
      "[0. 0. 0. 0. 0. 0. 0. 1. 0. 0. 0. 0. 0. 0. 0. 0. 0. 0. 0. 0.]\n",
      "[0.  0.  0.  0.  0.  0.5 0.  0.  0.5 0.  0.  0.  0.  0.  0.  0.  0.  0.\n",
      " 0.  0. ]\n",
      "[0.  0.  0.  0.  0.  0.  0.5 0.  0.  0.5 0.  0.  0.  0.  0.  0.  0.  0.\n",
      " 0.  0. ]\n",
      "[0.  0.  0.  0.  0.  0.  0.  0.5 0.  0.  0.5 0.  0.  0.  0.  0.  0.  0.\n",
      " 0.  0. ]\n",
      "[0. 0. 0. 0. 0. 0. 0. 0. 0. 0. 0. 1. 0. 0. 0. 0. 0. 0. 0. 0.]\n",
      "[0.  0.  0.  0.  0.  0.  0.  0.  0.  0.5 0.  0.  0.5 0.  0.  0.  0.  0.\n",
      " 0.  0. ]\n",
      "[0.  0.  0.  0.  0.  0.  0.  0.  0.  0.  0.5 0.  0.  0.5 0.  0.  0.  0.\n",
      " 0.  0. ]\n",
      "[0.  0.  0.  0.  0.  0.  0.  0.  0.  0.  0.  0.5 0.  0.  0.5 0.  0.  0.\n",
      " 0.  0. ]\n",
      "[0. 0. 0. 0. 0. 0. 0. 0. 0. 0. 0. 0. 0. 0. 0. 1. 0. 0. 0. 0.]\n",
      "[0.  0.  0.  0.  0.  0.  0.  0.  0.  0.  0.  0.  0.  0.5 0.  0.  0.5 0.\n",
      " 0.  0. ]\n",
      "[0.  0.  0.  0.  0.  0.  0.  0.  0.  0.  0.  0.  0.  0.  0.5 0.  0.  0.5\n",
      " 0.  0. ]\n",
      "[0.  0.  0.  0.  0.  0.  0.  0.  0.  0.  0.  0.  0.  0.  0.  0.5 0.  0.\n",
      " 0.5 0. ]\n",
      "[0. 0. 0. 0. 0. 0. 0. 0. 0. 0. 0. 0. 0. 0. 0. 1. 0. 0. 0. 1.]\n",
      "[0. 0. 0. 0. 0. 0. 0. 0. 0. 0. 0. 0. 0. 0. 0. 0. 0. 1. 0. 0.]\n",
      "[0. 0. 0. 0. 0. 0. 0. 0. 0. 0. 0. 0. 0. 0. 0. 0. 0. 0. 1. 0.]\n",
      "[0. 0. 0. 0. 0. 0. 0. 0. 0. 0. 0. 0. 0. 0. 0. 0. 0. 0. 0. 1.]\n",
      "[0. 0. 0. 0. 0. 0. 0. 0. 0. 0. 0. 0. 0. 0. 0. 0. 0. 0. 0. 0.]\n"
     ]
    }
   ],
   "source": [
    "for i in trans_mtx:\n",
    "    print(i)"
   ]
  },
  {
   "cell_type": "code",
   "execution_count": 4,
   "id": "5846af8f-9c9c-45c9-8e77-908a9a50c48a",
   "metadata": {},
   "outputs": [
    {
     "name": "stdout",
     "output_type": "stream",
     "text": [
      "[0.      0.      0.      0.      0.      0.      0.      0.      0.\n",
      " 0.      0.      0.      0.      0.      0.      0.65625 0.      0.\n",
      " 0.      0.65625]\n"
     ]
    }
   ],
   "source": [
    "steady_state_probs = linalg.matrix_power(trans_mtx, 10000)\n",
    "print(steady_state_probs[0])"
   ]
  },
  {
   "cell_type": "code",
   "execution_count": 5,
   "id": "c9b492e8-522d-440e-9947-f63b8b433c7b",
   "metadata": {},
   "outputs": [
    {
     "data": {
      "text/plain": [
       "0.65625"
      ]
     },
     "execution_count": 5,
     "metadata": {},
     "output_type": "execute_result"
    }
   ],
   "source": [
    "steady_state_probs[0, 15]  # This is C"
   ]
  },
  {
   "cell_type": "code",
   "execution_count": 6,
   "id": "f5767c4e-9efa-4a07-bb74-8ee42c3065ed",
   "metadata": {},
   "outputs": [
    {
     "data": {
      "text/plain": [
       "0.65625"
      ]
     },
     "execution_count": 6,
     "metadata": {},
     "output_type": "execute_result"
    }
   ],
   "source": [
    "21 / 32"
   ]
  },
  {
   "cell_type": "code",
   "execution_count": null,
   "id": "d2f6420b-6a29-4329-b288-18bfda698ee5",
   "metadata": {},
   "outputs": [],
   "source": []
  }
 ],
 "metadata": {
  "kernelspec": {
   "display_name": "Python 3",
   "language": "python",
   "name": "python3"
  },
  "language_info": {
   "codemirror_mode": {
    "name": "ipython",
    "version": 3
   },
   "file_extension": ".py",
   "mimetype": "text/x-python",
   "name": "python",
   "nbconvert_exporter": "python",
   "pygments_lexer": "ipython3",
   "version": "3.8.17"
  }
 },
 "nbformat": 4,
 "nbformat_minor": 5
}
