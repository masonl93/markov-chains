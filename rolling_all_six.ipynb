{
 "cells": [
  {
   "cell_type": "markdown",
   "id": "9871f728-07b1-435f-b90d-b4dd9565e7e3",
   "metadata": {},
   "source": [
    "https://twitter.com/CutTheKnotMath/status/965995693470027776  \n",
    "https://twitter.com/nntaleb/status/966797278806708224  \n",
    "\n",
    "<img src=\"img/rolling_all_six.jpg\"></img>"
   ]
  },
  {
   "cell_type": "code",
   "execution_count": 2,
   "id": "95aedd92-622b-48aa-ba3f-495bff0dc28b",
   "metadata": {
    "tags": []
   },
   "outputs": [],
   "source": [
    "import numpy as np\n",
    "from numpy import linalg"
   ]
  },
  {
   "cell_type": "code",
   "execution_count": 3,
   "id": "c938ff8e-66f5-494f-831f-f3c9d91c6c7c",
   "metadata": {
    "tags": []
   },
   "outputs": [
    {
     "name": "stdout",
     "output_type": "stream",
     "text": [
      "[[0.16666667 0.83333333 0.         0.         0.         0.        ]\n",
      " [0.         0.33333333 0.66666667 0.         0.         0.        ]\n",
      " [0.         0.         0.5        0.5        0.         0.        ]\n",
      " [0.         0.         0.         0.66666667 0.33333333 0.        ]\n",
      " [0.         0.         0.         0.         0.83333333 0.16666667]\n",
      " [1.         0.         0.         0.         0.         0.        ]]\n"
     ]
    }
   ],
   "source": [
    "trans_mtx = np.array(\n",
    "    [\n",
    "        [1 / 6, 5 / 6, 0, 0, 0, 0],\n",
    "        [0, 2 / 6, 4 / 6, 0, 0, 0],\n",
    "        [0, 0, 3 / 6, 3 / 6, 0, 0],\n",
    "        [0, 0, 0, 4 / 6, 2 / 6, 0],\n",
    "        [0, 0, 0, 0, 5 / 6, 1 / 6],\n",
    "        [1, 0, 0, 0, 0, 0],\n",
    "    ]\n",
    ")\n",
    "print(trans_mtx)"
   ]
  },
  {
   "cell_type": "code",
   "execution_count": 4,
   "id": "667d502e-1636-43aa-9e83-0c98876282ed",
   "metadata": {
    "tags": []
   },
   "outputs": [
    {
     "name": "stdout",
     "output_type": "stream",
     "text": [
      "[[0.08163265 0.10204082 0.13605442 0.20408163 0.40816327 0.06802721]\n",
      " [0.08163265 0.10204082 0.13605442 0.20408163 0.40816327 0.06802721]\n",
      " [0.08163265 0.10204082 0.13605442 0.20408163 0.40816327 0.06802721]\n",
      " [0.08163265 0.10204082 0.13605442 0.20408163 0.40816327 0.06802721]\n",
      " [0.08163265 0.10204082 0.13605442 0.20408163 0.40816327 0.06802721]\n",
      " [0.08163265 0.10204082 0.13605442 0.20408163 0.40816327 0.06802721]]\n"
     ]
    }
   ],
   "source": [
    "steady_state_probs = linalg.matrix_power(trans_mtx, 10000)\n",
    "print(steady_state_probs)"
   ]
  },
  {
   "cell_type": "code",
   "execution_count": 6,
   "id": "9cfed63c-9c95-4120-b6fe-a7cac9873c2a",
   "metadata": {
    "tags": []
   },
   "outputs": [
    {
     "data": {
      "text/plain": [
       "14.699999999998559"
      ]
     },
     "execution_count": 6,
     "metadata": {},
     "output_type": "execute_result"
    }
   ],
   "source": [
    "1 / steady_state_probs[0][-1]"
   ]
  },
  {
   "cell_type": "code",
   "execution_count": null,
   "id": "20cbfd51-13fb-4797-9fef-66518ed2b408",
   "metadata": {},
   "outputs": [],
   "source": []
  }
 ],
 "metadata": {
  "kernelspec": {
   "display_name": "Python 3",
   "language": "python",
   "name": "python3"
  },
  "language_info": {
   "codemirror_mode": {
    "name": "ipython",
    "version": 3
   },
   "file_extension": ".py",
   "mimetype": "text/x-python",
   "name": "python",
   "nbconvert_exporter": "python",
   "pygments_lexer": "ipython3",
   "version": "3.8.17"
  }
 },
 "nbformat": 4,
 "nbformat_minor": 5
}
