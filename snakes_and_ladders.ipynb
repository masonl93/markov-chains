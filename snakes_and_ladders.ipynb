{
 "cells": [
  {
   "cell_type": "markdown",
   "id": "30ce44d5-8263-4df4-b882-b3d82efb5030",
   "metadata": {},
   "source": [
    "# The Beautiful Math of Snakes and Ladders - Numberphile\n",
    "https://www.youtube.com/watch?v=nlm07asSU0c"
   ]
  },
  {
   "cell_type": "code",
   "execution_count": 1,
   "id": "95aedd92-622b-48aa-ba3f-495bff0dc28b",
   "metadata": {
    "tags": []
   },
   "outputs": [],
   "source": [
    "import random\n",
    "\n",
    "import numpy as np\n",
    "from numpy import linalg"
   ]
  },
  {
   "cell_type": "code",
   "execution_count": 2,
   "id": "c938ff8e-66f5-494f-831f-f3c9d91c6c7c",
   "metadata": {
    "tags": []
   },
   "outputs": [
    {
     "name": "stdout",
     "output_type": "stream",
     "text": [
      "Expected number of dice throws = 8.600000000163055\n"
     ]
    }
   ],
   "source": [
    "# y axis = current state, x axis = next state\n",
    "#   0 1 2 3 5 6 7 9\n",
    "# 0\n",
    "# 1\n",
    "# 2\n",
    "# 3\n",
    "# 5\n",
    "# 6\n",
    "# 7\n",
    "# start over\n",
    "t = [\n",
    "    [0, 1 / 6, 1 / 6, 1 / 6, 1 / 6, 1 / 6, 1 / 6, 0],\n",
    "    [0, 0, 1 / 6, 1 / 6, 1 / 6, 1 / 6, 2 / 6, 0],\n",
    "    [0, 0, 1 / 6, 1 / 6, 1 / 6, 1 / 6, 2 / 6, 0],\n",
    "    [0, 0, 1 / 6, 0, 1 / 6, 1 / 6, 2 / 6, 1 / 6],\n",
    "    [0, 0, 1 / 6, 0, 2 / 6, 1 / 6, 1 / 6, 1 / 6],\n",
    "    [0, 0, 1 / 6, 0, 0, 3 / 6, 1 / 6, 1 / 6],\n",
    "    [0, 0, 1 / 6, 0, 0, 0, 4 / 6, 1 / 6],\n",
    "    [0, 1 / 6, 1 / 6, 1 / 6, 1 / 6, 1 / 6, 1 / 6, 0],\n",
    "]\n",
    "\n",
    "\n",
    "# print(t)\n",
    "u = linalg.matrix_power(t, 1000000)\n",
    "\n",
    "print(\"Expected number of dice throws = {0}\".format(1 / u[0, 7]))"
   ]
  },
  {
   "cell_type": "markdown",
   "id": "ec924bef-7912-4a11-a30b-e463bd34d48d",
   "metadata": {},
   "source": [
    "# Simulation"
   ]
  },
  {
   "cell_type": "code",
   "execution_count": 3,
   "id": "94f0c637-032d-4748-b189-68807d4c326f",
   "metadata": {
    "tags": []
   },
   "outputs": [],
   "source": [
    "sims = 100_000\n",
    "rolls = []\n",
    "\n",
    "for i in range(sims):\n",
    "    pos = 0\n",
    "    cnt = 0\n",
    "    while True:\n",
    "        roll = random.randint(1, 6)\n",
    "        cnt += 1\n",
    "        new_pos = roll + pos\n",
    "        if new_pos == 4:\n",
    "            pos = 7\n",
    "        elif new_pos == 8:\n",
    "            pos = 2\n",
    "        elif new_pos > 9:\n",
    "            pos = pos\n",
    "        elif new_pos == 9:\n",
    "            rolls.append(cnt)\n",
    "            break\n",
    "        else:\n",
    "            pos = new_pos"
   ]
  },
  {
   "cell_type": "code",
   "execution_count": 4,
   "id": "4d553db5-30b0-4e51-9b9e-18e80df2e727",
   "metadata": {
    "tags": []
   },
   "outputs": [
    {
     "data": {
      "text/plain": [
       "8.56871"
      ]
     },
     "execution_count": 4,
     "metadata": {},
     "output_type": "execute_result"
    }
   ],
   "source": [
    "sum(rolls) / len(rolls)"
   ]
  },
  {
   "cell_type": "code",
   "execution_count": null,
   "id": "5f98a182-1b86-4932-b1b9-09ddd1164cc8",
   "metadata": {},
   "outputs": [],
   "source": []
  }
 ],
 "metadata": {
  "kernelspec": {
   "display_name": "Python 3",
   "language": "python",
   "name": "python3"
  },
  "language_info": {
   "codemirror_mode": {
    "name": "ipython",
    "version": 3
   },
   "file_extension": ".py",
   "mimetype": "text/x-python",
   "name": "python",
   "nbconvert_exporter": "python",
   "pygments_lexer": "ipython3",
   "version": "3.8.17"
  }
 },
 "nbformat": 4,
 "nbformat_minor": 5
}
